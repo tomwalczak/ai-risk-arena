{
 "cells": [
  {
   "cell_type": "code",
   "execution_count": 11,
   "id": "8ae68f8e-fd64-4980-a0c1-11b11d2fc806",
   "metadata": {},
   "outputs": [
    {
     "name": "stdout",
     "output_type": "stream",
     "text": [
      "Requirement already satisfied: langchain==0.1.8 in c:\\users\\hp\\appdata\\local\\programs\\python\\python310\\lib\\site-packages (0.1.8)\n",
      "Requirement already satisfied: PyYAML>=5.3 in c:\\users\\hp\\appdata\\local\\programs\\python\\python310\\lib\\site-packages (from langchain==0.1.8) (6.0)\n",
      "Requirement already satisfied: SQLAlchemy<3,>=1.4 in c:\\users\\hp\\appdata\\local\\programs\\python\\python310\\lib\\site-packages (from langchain==0.1.8) (1.4.47)\n",
      "Requirement already satisfied: aiohttp<4.0.0,>=3.8.3 in c:\\users\\hp\\appdata\\local\\programs\\python\\python310\\lib\\site-packages (from langchain==0.1.8) (3.8.4)\n",
      "Requirement already satisfied: async-timeout<5.0.0,>=4.0.0 in c:\\users\\hp\\appdata\\local\\programs\\python\\python310\\lib\\site-packages (from langchain==0.1.8) (4.0.2)\n",
      "Requirement already satisfied: dataclasses-json<0.7,>=0.5.7 in c:\\users\\hp\\appdata\\local\\programs\\python\\python310\\lib\\site-packages (from langchain==0.1.8) (0.5.7)\n",
      "Requirement already satisfied: jsonpatch<2.0,>=1.33 in c:\\users\\hp\\appdata\\local\\programs\\python\\python310\\lib\\site-packages (from langchain==0.1.8) (1.33)\n",
      "Requirement already satisfied: langchain-community<0.1,>=0.0.21 in c:\\users\\hp\\appdata\\local\\programs\\python\\python310\\lib\\site-packages (from langchain==0.1.8) (0.0.21)\n",
      "Requirement already satisfied: langchain-core<0.2,>=0.1.24 in c:\\users\\hp\\appdata\\local\\programs\\python\\python310\\lib\\site-packages (from langchain==0.1.8) (0.1.25)\n",
      "Requirement already satisfied: langsmith<0.2.0,>=0.1.0 in c:\\users\\hp\\appdata\\local\\programs\\python\\python310\\lib\\site-packages (from langchain==0.1.8) (0.1.5)\n",
      "Requirement already satisfied: numpy<2,>=1 in c:\\users\\hp\\appdata\\local\\programs\\python\\python310\\lib\\site-packages (from langchain==0.1.8) (1.23.5)\n",
      "Requirement already satisfied: pydantic<3,>=1 in c:\\users\\hp\\appdata\\local\\programs\\python\\python310\\lib\\site-packages (from langchain==0.1.8) (1.10.7)\n",
      "Requirement already satisfied: requests<3,>=2 in c:\\users\\hp\\appdata\\local\\programs\\python\\python310\\lib\\site-packages (from langchain==0.1.8) (2.31.0)\n",
      "Requirement already satisfied: tenacity<9.0.0,>=8.1.0 in c:\\users\\hp\\appdata\\local\\programs\\python\\python310\\lib\\site-packages (from langchain==0.1.8) (8.2.3)\n",
      "Requirement already satisfied: attrs>=17.3.0 in c:\\users\\hp\\appdata\\local\\programs\\python\\python310\\lib\\site-packages (from aiohttp<4.0.0,>=3.8.3->langchain==0.1.8) (23.1.0)\n",
      "Requirement already satisfied: charset-normalizer<4.0,>=2.0 in c:\\users\\hp\\appdata\\local\\programs\\python\\python310\\lib\\site-packages (from aiohttp<4.0.0,>=3.8.3->langchain==0.1.8) (2.0.12)\n",
      "Requirement already satisfied: multidict<7.0,>=4.5 in c:\\users\\hp\\appdata\\local\\programs\\python\\python310\\lib\\site-packages (from aiohttp<4.0.0,>=3.8.3->langchain==0.1.8) (6.0.4)\n",
      "Requirement already satisfied: yarl<2.0,>=1.0 in c:\\users\\hp\\appdata\\local\\programs\\python\\python310\\lib\\site-packages (from aiohttp<4.0.0,>=3.8.3->langchain==0.1.8) (1.8.2)\n",
      "Requirement already satisfied: frozenlist>=1.1.1 in c:\\users\\hp\\appdata\\local\\programs\\python\\python310\\lib\\site-packages (from aiohttp<4.0.0,>=3.8.3->langchain==0.1.8) (1.3.3)\n",
      "Requirement already satisfied: aiosignal>=1.1.2 in c:\\users\\hp\\appdata\\local\\programs\\python\\python310\\lib\\site-packages (from aiohttp<4.0.0,>=3.8.3->langchain==0.1.8) (1.3.1)\n",
      "Requirement already satisfied: marshmallow<4.0.0,>=3.3.0 in c:\\users\\hp\\appdata\\local\\programs\\python\\python310\\lib\\site-packages (from dataclasses-json<0.7,>=0.5.7->langchain==0.1.8) (3.19.0)\n",
      "Requirement already satisfied: marshmallow-enum<2.0.0,>=1.5.1 in c:\\users\\hp\\appdata\\local\\programs\\python\\python310\\lib\\site-packages (from dataclasses-json<0.7,>=0.5.7->langchain==0.1.8) (1.5.1)\n",
      "Requirement already satisfied: typing-inspect>=0.4.0 in c:\\users\\hp\\appdata\\local\\programs\\python\\python310\\lib\\site-packages (from dataclasses-json<0.7,>=0.5.7->langchain==0.1.8) (0.8.0)\n",
      "Requirement already satisfied: jsonpointer>=1.9 in c:\\users\\hp\\appdata\\local\\programs\\python\\python310\\lib\\site-packages (from jsonpatch<2.0,>=1.33->langchain==0.1.8) (2.3)\n",
      "Requirement already satisfied: anyio<5,>=3 in c:\\users\\hp\\appdata\\local\\programs\\python\\python310\\lib\\site-packages (from langchain-core<0.2,>=0.1.24->langchain==0.1.8) (3.6.2)\n",
      "Requirement already satisfied: packaging<24.0,>=23.2 in c:\\users\\hp\\appdata\\local\\programs\\python\\python310\\lib\\site-packages (from langchain-core<0.2,>=0.1.24->langchain==0.1.8) (23.2)\n",
      "Requirement already satisfied: typing-extensions>=4.2.0 in c:\\users\\hp\\appdata\\local\\programs\\python\\python310\\lib\\site-packages (from pydantic<3,>=1->langchain==0.1.8) (4.9.0)\n",
      "Requirement already satisfied: idna<4,>=2.5 in c:\\users\\hp\\appdata\\local\\programs\\python\\python310\\lib\\site-packages (from requests<3,>=2->langchain==0.1.8) (2.10)\n",
      "Requirement already satisfied: urllib3<3,>=1.21.1 in c:\\users\\hp\\appdata\\local\\programs\\python\\python310\\lib\\site-packages (from requests<3,>=2->langchain==0.1.8) (1.26.15)\n",
      "Requirement already satisfied: certifi>=2017.4.17 in c:\\users\\hp\\appdata\\local\\programs\\python\\python310\\lib\\site-packages (from requests<3,>=2->langchain==0.1.8) (2022.12.7)\n",
      "Requirement already satisfied: greenlet!=0.4.17 in c:\\users\\hp\\appdata\\local\\programs\\python\\python310\\lib\\site-packages (from SQLAlchemy<3,>=1.4->langchain==0.1.8) (2.0.2)\n",
      "Requirement already satisfied: sniffio>=1.1 in c:\\users\\hp\\appdata\\local\\programs\\python\\python310\\lib\\site-packages (from anyio<5,>=3->langchain-core<0.2,>=0.1.24->langchain==0.1.8) (1.3.0)\n",
      "Requirement already satisfied: mypy-extensions>=0.3.0 in c:\\users\\hp\\appdata\\local\\programs\\python\\python310\\lib\\site-packages (from typing-inspect>=0.4.0->dataclasses-json<0.7,>=0.5.7->langchain==0.1.8) (1.0.0)\n"
     ]
    },
    {
     "name": "stderr",
     "output_type": "stream",
     "text": [
      "WARNING: Ignoring invalid distribution -otebook (c:\\users\\hp\\appdata\\local\\programs\\python\\python310\\lib\\site-packages)\n",
      "WARNING: Ignoring invalid distribution -otebook (c:\\users\\hp\\appdata\\local\\programs\\python\\python310\\lib\\site-packages)\n",
      "DEPRECATION: dropbox 11.36.0 has a non-standard dependency specifier stone>=2.*. pip 24.1 will enforce this behaviour change. A possible replacement is to upgrade to a newer version of dropbox or contact the author to suggest that they release a version with a conforming dependency specifiers. Discussion can be found at https://github.com/pypa/pip/issues/12063\n"
     ]
    },
    {
     "name": "stdout",
     "output_type": "stream",
     "text": [
      "Requirement already satisfied: langchain-openai==0.0.6 in c:\\users\\hp\\appdata\\local\\programs\\python\\python310\\lib\\site-packages (0.0.6)\n",
      "Requirement already satisfied: langchain-core<0.2,>=0.1.16 in c:\\users\\hp\\appdata\\local\\programs\\python\\python310\\lib\\site-packages (from langchain-openai==0.0.6) (0.1.25)\n",
      "Requirement already satisfied: numpy<2,>=1 in c:\\users\\hp\\appdata\\local\\programs\\python\\python310\\lib\\site-packages (from langchain-openai==0.0.6) (1.23.5)\n",
      "Requirement already satisfied: openai<2.0.0,>=1.10.0 in c:\\users\\hp\\appdata\\local\\programs\\python\\python310\\lib\\site-packages (from langchain-openai==0.0.6) (1.12.0)\n",
      "Requirement already satisfied: tiktoken<1,>=0.5.2 in c:\\users\\hp\\appdata\\local\\programs\\python\\python310\\lib\\site-packages (from langchain-openai==0.0.6) (0.6.0)\n",
      "Requirement already satisfied: PyYAML>=5.3 in c:\\users\\hp\\appdata\\local\\programs\\python\\python310\\lib\\site-packages (from langchain-core<0.2,>=0.1.16->langchain-openai==0.0.6) (6.0)\n",
      "Requirement already satisfied: anyio<5,>=3 in c:\\users\\hp\\appdata\\local\\programs\\python\\python310\\lib\\site-packages (from langchain-core<0.2,>=0.1.16->langchain-openai==0.0.6) (3.6.2)\n",
      "Requirement already satisfied: jsonpatch<2.0,>=1.33 in c:\\users\\hp\\appdata\\local\\programs\\python\\python310\\lib\\site-packages (from langchain-core<0.2,>=0.1.16->langchain-openai==0.0.6) (1.33)\n",
      "Requirement already satisfied: langsmith<0.2.0,>=0.1.0 in c:\\users\\hp\\appdata\\local\\programs\\python\\python310\\lib\\site-packages (from langchain-core<0.2,>=0.1.16->langchain-openai==0.0.6) (0.1.5)\n",
      "Requirement already satisfied: packaging<24.0,>=23.2 in c:\\users\\hp\\appdata\\local\\programs\\python\\python310\\lib\\site-packages (from langchain-core<0.2,>=0.1.16->langchain-openai==0.0.6) (23.2)\n",
      "Requirement already satisfied: pydantic<3,>=1 in c:\\users\\hp\\appdata\\local\\programs\\python\\python310\\lib\\site-packages (from langchain-core<0.2,>=0.1.16->langchain-openai==0.0.6) (1.10.7)\n",
      "Requirement already satisfied: requests<3,>=2 in c:\\users\\hp\\appdata\\local\\programs\\python\\python310\\lib\\site-packages (from langchain-core<0.2,>=0.1.16->langchain-openai==0.0.6) (2.31.0)\n",
      "Requirement already satisfied: tenacity<9.0.0,>=8.1.0 in c:\\users\\hp\\appdata\\local\\programs\\python\\python310\\lib\\site-packages (from langchain-core<0.2,>=0.1.16->langchain-openai==0.0.6) (8.2.3)\n",
      "Requirement already satisfied: distro<2,>=1.7.0 in c:\\users\\hp\\appdata\\local\\programs\\python\\python310\\lib\\site-packages (from openai<2.0.0,>=1.10.0->langchain-openai==0.0.6) (1.8.0)\n",
      "Requirement already satisfied: httpx<1,>=0.23.0 in c:\\users\\hp\\appdata\\local\\programs\\python\\python310\\lib\\site-packages (from openai<2.0.0,>=1.10.0->langchain-openai==0.0.6) (0.27.0)\n",
      "Requirement already satisfied: sniffio in c:\\users\\hp\\appdata\\local\\programs\\python\\python310\\lib\\site-packages (from openai<2.0.0,>=1.10.0->langchain-openai==0.0.6) (1.3.0)\n",
      "Requirement already satisfied: tqdm>4 in c:\\users\\hp\\appdata\\local\\programs\\python\\python310\\lib\\site-packages (from openai<2.0.0,>=1.10.0->langchain-openai==0.0.6) (4.65.0)\n",
      "Requirement already satisfied: typing-extensions<5,>=4.7 in c:\\users\\hp\\appdata\\local\\programs\\python\\python310\\lib\\site-packages (from openai<2.0.0,>=1.10.0->langchain-openai==0.0.6) (4.9.0)\n",
      "Requirement already satisfied: regex>=2022.1.18 in c:\\users\\hp\\appdata\\local\\programs\\python\\python310\\lib\\site-packages (from tiktoken<1,>=0.5.2->langchain-openai==0.0.6) (2023.3.23)\n",
      "Requirement already satisfied: idna>=2.8 in c:\\users\\hp\\appdata\\local\\programs\\python\\python310\\lib\\site-packages (from anyio<5,>=3->langchain-core<0.2,>=0.1.16->langchain-openai==0.0.6) (2.10)\n",
      "Requirement already satisfied: certifi in c:\\users\\hp\\appdata\\local\\programs\\python\\python310\\lib\\site-packages (from httpx<1,>=0.23.0->openai<2.0.0,>=1.10.0->langchain-openai==0.0.6) (2022.12.7)\n",
      "Requirement already satisfied: httpcore==1.* in c:\\users\\hp\\appdata\\local\\programs\\python\\python310\\lib\\site-packages (from httpx<1,>=0.23.0->openai<2.0.0,>=1.10.0->langchain-openai==0.0.6) (1.0.4)\n",
      "Requirement already satisfied: h11<0.15,>=0.13 in c:\\users\\hp\\appdata\\local\\programs\\python\\python310\\lib\\site-packages (from httpcore==1.*->httpx<1,>=0.23.0->openai<2.0.0,>=1.10.0->langchain-openai==0.0.6) (0.14.0)\n",
      "Requirement already satisfied: jsonpointer>=1.9 in c:\\users\\hp\\appdata\\local\\programs\\python\\python310\\lib\\site-packages (from jsonpatch<2.0,>=1.33->langchain-core<0.2,>=0.1.16->langchain-openai==0.0.6) (2.3)\n",
      "Requirement already satisfied: charset-normalizer<4,>=2 in c:\\users\\hp\\appdata\\local\\programs\\python\\python310\\lib\\site-packages (from requests<3,>=2->langchain-core<0.2,>=0.1.16->langchain-openai==0.0.6) (2.0.12)\n",
      "Requirement already satisfied: urllib3<3,>=1.21.1 in c:\\users\\hp\\appdata\\local\\programs\\python\\python310\\lib\\site-packages (from requests<3,>=2->langchain-core<0.2,>=0.1.16->langchain-openai==0.0.6) (1.26.15)\n",
      "Requirement already satisfied: colorama in c:\\users\\hp\\appdata\\local\\programs\\python\\python310\\lib\\site-packages (from tqdm>4->openai<2.0.0,>=1.10.0->langchain-openai==0.0.6) (0.4.6)\n"
     ]
    },
    {
     "name": "stderr",
     "output_type": "stream",
     "text": [
      "WARNING: Ignoring invalid distribution -otebook (c:\\users\\hp\\appdata\\local\\programs\\python\\python310\\lib\\site-packages)\n",
      "WARNING: Ignoring invalid distribution -otebook (c:\\users\\hp\\appdata\\local\\programs\\python\\python310\\lib\\site-packages)\n",
      "DEPRECATION: dropbox 11.36.0 has a non-standard dependency specifier stone>=2.*. pip 24.1 will enforce this behaviour change. A possible replacement is to upgrade to a newer version of dropbox or contact the author to suggest that they release a version with a conforming dependency specifiers. Discussion can be found at https://github.com/pypa/pip/issues/12063\n"
     ]
    },
    {
     "name": "stdout",
     "output_type": "stream",
     "text": [
      "Requirement already satisfied: python-dotenv in c:\\users\\hp\\appdata\\local\\programs\\python\\python310\\lib\\site-packages (1.0.0)\n"
     ]
    },
    {
     "name": "stderr",
     "output_type": "stream",
     "text": [
      "WARNING: Ignoring invalid distribution -otebook (c:\\users\\hp\\appdata\\local\\programs\\python\\python310\\lib\\site-packages)\n",
      "WARNING: Ignoring invalid distribution -otebook (c:\\users\\hp\\appdata\\local\\programs\\python\\python310\\lib\\site-packages)\n",
      "DEPRECATION: dropbox 11.36.0 has a non-standard dependency specifier stone>=2.*. pip 24.1 will enforce this behaviour change. A possible replacement is to upgrade to a newer version of dropbox or contact the author to suggest that they release a version with a conforming dependency specifiers. Discussion can be found at https://github.com/pypa/pip/issues/12063\n"
     ]
    }
   ],
   "source": [
    "!pip install langchain==0.1.8\n",
    "!pip install langchain-openai==0.0.6\n",
    "!pip install python-dotenv==1.0.0"
   ]
  },
  {
   "cell_type": "code",
   "execution_count": 2,
   "id": "431578a4-7e06-484f-9633-6bcbc95c0897",
   "metadata": {},
   "outputs": [],
   "source": [
    "import os\n",
    "from dotenv import load_dotenv\n",
    "from langchain_openai import ChatOpenAI\n",
    "from langchain_core.prompts import ChatPromptTemplate\n",
    "from langchain_community.document_loaders import TextLoader\n",
    "from langchain_community.document_loaders import DirectoryLoader"
   ]
  },
  {
   "cell_type": "code",
   "execution_count": 5,
   "id": "3f7c57be-ffff-4637-be51-a25b7d260735",
   "metadata": {},
   "outputs": [
    {
     "data": {
      "text/plain": [
       "True"
      ]
     },
     "execution_count": 5,
     "metadata": {},
     "output_type": "execute_result"
    }
   ],
   "source": [
    "load_dotenv()"
   ]
  },
  {
   "cell_type": "code",
   "execution_count": 44,
   "id": "2ddfd5e0-716b-4b6b-a2b9-5c4959f56a05",
   "metadata": {},
   "outputs": [],
   "source": [
    "#METADATA (provide info about the chatbot):\n",
    "metadata = {\n",
    "    \"name\": \"harari\",\n",
    "    \"sentiment\": \"optimistic\", #can be \"optimistic\" or \"pessimistic\"\n",
    "    \"source\": \"https://hai.stanford.edu/news/historian-and-technologist-yuval-harari-and-fei-fei-li-discussion\"\n",
    "}"
   ]
  },
  {
   "cell_type": "code",
   "execution_count": 3,
   "id": "097200cc-5327-4bf1-af0c-515ad11578cc",
   "metadata": {},
   "outputs": [],
   "source": [
    "def write_to_file(filename, text):\n",
    "    try:\n",
    "        directory = os.path.dirname(filename)\n",
    "        if not os.path.exists(directory):\n",
    "            os.makedirs(directory)\n",
    "        with open(filename, 'w') as file:\n",
    "            file.write(text)\n",
    "        print(\"Text successfully written to\", filename)\n",
    "    except Exception as e:\n",
    "        print(\"An error occurred:\", str(e))"
   ]
  },
  {
   "cell_type": "code",
   "execution_count": 6,
   "id": "c024d887-649d-411c-8a18-d6562b9adb83",
   "metadata": {},
   "outputs": [],
   "source": [
    "llm = ChatOpenAI(model=\"gpt-4-turbo-preview\",\n",
    "                 temperature=0.7,\n",
    "                 model_kwargs={\n",
    "                    \"frequency_penalty\": 0.0,\n",
    "                     \"presence_penalty\": 0.0,\n",
    "                     \"top_p\": 1.0,\n",
    "                  })"
   ]
  },
  {
   "cell_type": "code",
   "execution_count": 7,
   "id": "427c5baa-c06d-4cba-be40-1b5146aaa47d",
   "metadata": {},
   "outputs": [],
   "source": [
    "loader = DirectoryLoader('./source', glob=\"**/*.md\")\n",
    "raw_text = loader.load()"
   ]
  },
  {
   "cell_type": "code",
   "execution_count": 8,
   "id": "8e0a19b1-0822-48cf-923e-fae37ee81628",
   "metadata": {},
   "outputs": [],
   "source": [
    "first_cycle_prompt = ChatPromptTemplate.from_messages([\n",
    "    (\"system\", \"You are a helpful assistant.\"),\n",
    "    (\"user\", \"\"\"\n",
    "    Read the following transcript and extract all the arguments made about AI safety. Make sure they are self-contained.\n",
    "\n",
    "  You must stick as close as possible to the transcript - use the author's own words and tone of voice.\n",
    "\n",
    "  You must write each argument in a valid YAML format, surrounded with backticks.\n",
    "  You must separate each argument with a new line.\n",
    "\n",
    "\n",
    "  The simplest possible argument must at least contain three claims:\n",
    "\n",
    "  ```\n",
    "  claim: \"Top-level claim\"\n",
    "  premises:\n",
    "    - claim: \"First independent premise supporting the top-level claim\"\n",
    "    - claim: \"Second independent premise supporting the top-level claim\"\n",
    "  ```\n",
    "\n",
    "  And here's an example of a more complex argument, which also includes examples to illustrate lower-level claims:\n",
    "\n",
    "  ```\n",
    "  claim: \"Top-level claim\"\n",
    "  premises:\n",
    "    - claim: \"First independent premise supporting the top-level claim\"\n",
    "    - claim: \"Supporting premise for the top-level claim\"\n",
    "      example: \"Example supporting this premise\"\n",
    "    - claim: \"Another supporting premise for the top-level claim\"\n",
    "    - claim: \"Second independent premise supporting the top-level claim\"\n",
    "      premises:\n",
    "        - claim: \"Supporting premise for the second independent premise\"\n",
    "        - claim: \"Another supporting premise for the second independent premise\"\n",
    "        - claim: \"Independent premise supporting the second independent premise\"\n",
    "          example: \"Example supporting this independent premise\"\n",
    "  ```\n",
    "\n",
    "  Here's how to read this structure:\n",
    "\n",
    "  The top-level claim is the main argument.\n",
    "  Directly nested under the claim are independent premises. These provide justification independently of other premises.\n",
    "  An example can be nested directly under a claim to provide further context or support.\n",
    "  Just like the top-level claim, each premise can itself be supported by further individual premises, or examples, creating a nested structure.\n",
    "\n",
    "  # Here is the transcript:\n",
    "\n",
    "  {transcript}\n",
    "  \"\"\")\n",
    "])"
   ]
  },
  {
   "cell_type": "code",
   "execution_count": 9,
   "id": "c816d6dd-2efc-4ccc-a271-19017f24ea7c",
   "metadata": {},
   "outputs": [],
   "source": [
    "first_cycle_chain = first_cycle_prompt | llm"
   ]
  },
  {
   "cell_type": "code",
   "execution_count": 11,
   "id": "a286bff8-6e62-4d69-b956-59203da647b2",
   "metadata": {},
   "outputs": [],
   "source": [
    "first_cycle_response = first_cycle_chain.invoke({\"transcript\": raw_text[0].page_content})"
   ]
  },
  {
   "cell_type": "code",
   "execution_count": 12,
   "id": "7362daf2-b13d-414e-8800-56527fb11b0c",
   "metadata": {},
   "outputs": [
    {
     "data": {
      "text/plain": [
       "AIMessage(content='```\\nclaim: \"AI has the potential to significantly benefit humanity.\"\\npremises:\\n  - claim: \"AI can improve healthcare, making the best and cheapest healthcare in history available for billions on their cell phones.\"\\n  - claim: \"AI\\'s integration with biology could lead to unprecedented advances in understanding and treating human conditions.\"\\n```\\n\\n```\\nclaim: \"AI technology could lead to dystopian outcomes.\"\\npremises:\\n  - claim: \"Liberal democracies could be undermined by machines that subtly control human lives.\"\\n  - claim: \"Totalitarian regimes could exploit AI to monitor and control every aspect of citizens\\' lives, creating an omnipresent police state.\"\\n```\\n\\n```\\nclaim: \"Human emotions, such as love, may be resistant to AI manipulation.\"\\npremises:\\n  - claim: \"Despite AI\\'s advances, it is still far from achieving true consciousness or experiencing feelings.\"\\n  - claim: \"The complexity and depth of human emotions like love present a significant challenge to AI\\'s ability to fully understand and replicate them.\"\\n```\\n\\n```\\nclaim: \"The hype surrounding today\\'s AI capabilities is excessive.\"\\npremises:\\n  - claim: \"Today\\'s technology is still nascent and far from achieving the level of advancement often claimed.\"\\n  - claim: \"Concerns about AI should be balanced with the recognition that humanity has successfully navigated the introduction of transformative technologies in the past.\"\\n```\\n\\n```\\nclaim: \"Diversity and inclusion are crucial in the development of AI.\"\\npremises:\\n  - claim: \"Machine learning system bias is a real and present concern.\"\\n  - claim: \"Addressing diversity and inclusion in AI is essential to ensuring the technology serves all of humanity fairly.\"\\n```\\n\\n```\\nclaim: \"The development of AI should prioritize human needs and ethics.\"\\npremises:\\n  - claim: \"Issues such as privacy and job displacement are pressing concerns that need to be addressed.\"\\n  - claim: \"Research and dialogue about AI must extend beyond computer code to include ethical and societal considerations.\"\\n```\\n\\n```\\nclaim: \"AI research should be conducted with a focus on benefiting ordinary people.\"\\npremises:\\n  - claim: \"AI assistants should be developed with loyalty to users rather than to for-profit corporations.\"\\n  - claim: \"Keeping much of the AI research in academia can help ensure the technology develops in a way that prioritizes the needs of the public.\"\\n```\\n\\n```\\nclaim: \"Interdisciplinary study is essential for preparing for AI\\'s future impact.\"\\npremises:\\n  - claim: \"Understanding AI and its implications requires knowledge from a variety of traditional disciplines.\"\\n  - claim: \"Enhancing the dialogue between humanists and technologists is vital for navigating AI\\'s future responsibly.\"\\n```')"
      ]
     },
     "execution_count": 12,
     "metadata": {},
     "output_type": "execute_result"
    }
   ],
   "source": [
    "first_cycle_response"
   ]
  },
  {
   "cell_type": "code",
   "execution_count": 13,
   "id": "d9086728-adf5-4deb-8700-999e47662a28",
   "metadata": {},
   "outputs": [
    {
     "name": "stdout",
     "output_type": "stream",
     "text": [
      "Text successfully written to source/step_1/results.md\n"
     ]
    }
   ],
   "source": [
    "write_to_file(\"source/step_1/results.md\", first_cycle_response.content)"
   ]
  },
  {
   "cell_type": "code",
   "execution_count": 15,
   "id": "1cbfd557-aa16-49b5-87df-288c57d14343",
   "metadata": {},
   "outputs": [],
   "source": [
    "second_cycle_prompt = ChatPromptTemplate.from_messages([\n",
    "    (\"system\", \"You are a helpful assistant.\"),\n",
    "    (\"user\", \"\"\"\n",
    "  Based on the following transcript, make the arguments clear and distinct. \n",
    "  You may need to merge similar arguments to create a better, more logical argument.\n",
    "\n",
    "  Create the best, strongest possible version of the arguments, here's what to do:\n",
    "\n",
    "  - Make sure the arguments is self-contained\n",
    "  - Make the arguments understandable on their own, out-of-context\n",
    "  - Remember, arguments are not a description or an explanation\n",
    "  - Premise must always give a reason to believe the claim above\n",
    "  - Avoid using pronouns in premises\n",
    "  - A claim can have a maximum of two child claims (premises), rewrite if needed\n",
    "\n",
    "  # Argument format \n",
    "\n",
    "  You must write each argument in valid YAML format, surrounded with backticks.\n",
    "  Separate each argument with new line.\n",
    "  You must stick as closely as possible to the transcript. \n",
    "  Above all, you must express the argument in the words of the author, stick as close as possible to the tone of voice and phrases used in the transcript.\n",
    "\n",
    "\n",
    "\n",
    "  Here are some examples:\n",
    "\n",
    "  A simple argument might look like this: \n",
    "\n",
    "  ```\n",
    "  claim: \"Top-level claim\"\n",
    "  premises:\n",
    "    - claim: \"First independent premise supporting the top-level claim\"\n",
    "    - claim: \"Second independent premise supporting the top-level claim\"\n",
    "  ```\n",
    "\n",
    "  And here's an example of a more complex argument, which also includes examples to illustrate lower-level claims:\n",
    "\n",
    "  ```\n",
    "  claim: \"Top-level claim\"\n",
    "  premises:\n",
    "    - claim: \"First independent premise supporting the top-level claim\"\n",
    "    - claim: \"Supporting premise for the top-level claim\"\n",
    "      example: \"Example supporting this premise\"\n",
    "    - claim: \"Another supporting premise for the top-level claim\"\n",
    "    - claim: \"Second independent premise supporting the top-level claim\"\n",
    "      premises:\n",
    "        - claim: \"Supporting premise for the second independent premise\"\n",
    "        - claim: \"Another supporting premise for the second independent premise\"\n",
    "        - claim: \"Independent premise supporting the second independent premise\"\n",
    "          example: \"Example supporting this independent premise\"\n",
    "  ```\n",
    "\n",
    "  Here's how to read this structure:\n",
    "\n",
    "  The top-level claim is the main argument.\n",
    "  Directly nested under the claim are independent premises. These provide justification independently of other premises.\n",
    "  An example can be nested directly under a claim to provide further context or support.\n",
    "  Just like the top-level claim, each premise can itself be supported by further individual premises, or examples, creating a nested structure.\n",
    "\n",
    "\n",
    "  # Arguments to improve:\n",
    "\n",
    "  {all_arguments}\n",
    "\n",
    "  # Transcript\n",
    "\n",
    "  {transcript}\n",
    "  \"\"\")\n",
    "])"
   ]
  },
  {
   "cell_type": "code",
   "execution_count": 16,
   "id": "a9f4f6db-b4b4-4142-9212-07ef7ba54e89",
   "metadata": {},
   "outputs": [],
   "source": [
    "second_cycle_chain = second_cycle_prompt | llm"
   ]
  },
  {
   "cell_type": "code",
   "execution_count": 17,
   "id": "bea9005c-f1de-4aea-969f-c1896ea3d34d",
   "metadata": {},
   "outputs": [],
   "source": [
    "second_cycle_response = second_cycle_chain.invoke({\"all_arguments\": first_cycle_response.content, \"transcript\": raw_text[0].page_content})"
   ]
  },
  {
   "cell_type": "code",
   "execution_count": 18,
   "id": "653a1e77-6021-431e-b4e8-729bda58f069",
   "metadata": {},
   "outputs": [
    {
     "data": {
      "text/plain": [
       "AIMessage(content='```\\nclaim: \"AI has the potential to significantly benefit humanity.\"\\npremises:\\n  - claim: \"AI can make the best and cheapest healthcare in history available for billions on their cell phones.\"\\n  - claim: \"AI\\'s integration with biology could lead to unprecedented advances in understanding and treating human conditions.\"\\n```\\n\\n```\\nclaim: \"AI technology could lead to dystopian outcomes.\"\\npremises:\\n  - claim: \"Liberal democracies could be undermined by machines that exert subtle and pernicious control over human lives.\"\\n  - claim: \"Totalitarian regimes could use AI to create a police state able to monitor and control all aspects of citizens\\' lives, 24 hours a day.\"\\n```\\n\\n```\\nclaim: \"Human emotions, such as love, may be resistant to AI manipulation.\"\\npremises:\\n  - claim: \"AI is still very far from achieving true consciousness or experiencing feelings.\"\\n  - claim: \"The complexity and depth of human emotions like love present a significant challenge to AI\\'s ability to fully understand and replicate them.\"\\n```\\n\\n```\\nclaim: \"The hype surrounding today\\'s AI capabilities is excessive.\"\\npremises:\\n  - claim: \"Today\\'s AI technology is still nascent and far from achieving the level of advancement often claimed.\"\\n  - claim: \"Humanity has successfully navigated the introduction of transformative technologies in the past, indicating concerns about AI may be balanced.\"\\n```\\n\\n```\\nclaim: \"Diversity and inclusion are crucial in the development of AI.\"\\npremises:\\n  - claim: \"Machine learning system bias is a real concern that needs to be addressed.\"\\n  - claim: \"Ensuring diversity and inclusion in AI is essential to serve all of humanity fairly.\"\\n```\\n\\n```\\nclaim: \"The development of AI should prioritize human needs and ethics.\"\\npremises:\\n  - claim: \"Privacy concerns and job displacement are pressing issues that need to be addressed in AI development.\"\\n  - claim: \"AI research and dialogue must include ethical and societal considerations beyond just computer code.\"\\n```\\n\\n```\\nclaim: \"AI research should be conducted with a focus on benefiting ordinary people.\"\\npremises:\\n  - claim: \"AI assistants should be developed to be loyal to users rather than to for-profit corporations.\"\\n  - claim: \"Keeping much of the AI research in academia can help ensure the technology develops in a way that prioritizes public needs.\"\\n```\\n\\n```\\nclaim: \"Interdisciplinary study is essential for preparing for AI\\'s future impact.\"\\npremises:\\n  - claim: \"Understanding AI and its implications requires knowledge from a variety of traditional disciplines.\"\\n  - claim: \"Enhancing the dialogue between humanists and technologists is vital for navigating AI\\'s future responsibly.\"\\n```')"
      ]
     },
     "execution_count": 18,
     "metadata": {},
     "output_type": "execute_result"
    }
   ],
   "source": [
    "second_cycle_response"
   ]
  },
  {
   "cell_type": "code",
   "execution_count": 19,
   "id": "6905ebdb-bd6f-4e8a-8e4c-629b3512e664",
   "metadata": {},
   "outputs": [
    {
     "name": "stdout",
     "output_type": "stream",
     "text": [
      "Text successfully written to source/step_2/results.md\n"
     ]
    }
   ],
   "source": [
    "write_to_file(\"source/step_2/results.md\", first_cycle_response.content)"
   ]
  },
  {
   "cell_type": "code",
   "execution_count": 34,
   "id": "07225d80-afde-4b2b-a35e-a5904192a402",
   "metadata": {},
   "outputs": [],
   "source": [
    "def isolate_arguments(args_combined):\n",
    "    args_list = args_combined.split(\"\\n```\\n\\n```\\n\")\n",
    "    args_list[0] = args_list[0].split(\"```\\n\")[1]\n",
    "    args_list[len(args_list) - 1] = args_list[len(args_list) - 1].split(\"\\n```\")[0]\n",
    "    return args_list"
   ]
  },
  {
   "cell_type": "code",
   "execution_count": 36,
   "id": "1f402853-3cbf-454b-8658-5d5c57a39769",
   "metadata": {},
   "outputs": [],
   "source": [
    "isolated_arguments = isolate_arguments(second_cycle_response.content)"
   ]
  },
  {
   "cell_type": "code",
   "execution_count": 37,
   "id": "22a52a7a-64fe-4d23-bc41-b240cff76215",
   "metadata": {},
   "outputs": [],
   "source": [
    "third_cycle_prompt = ChatPromptTemplate.from_messages([\n",
    "    (\"system\", \"You are a world expert at creating accessible, persuasive explanations.\"),\n",
    "    (\"user\", \"\"\"\n",
    "  Based on your own knowledge and the transcript, create a structured explanation for the following argument. Use the context from the transcript for the explanation.\n",
    "\n",
    "  # Argument to use for the explanation\n",
    "\n",
    "  {argument}\n",
    "\n",
    "\n",
    "  The structured explanation must be directly based on the argument. You can also use the provided transcript for context.\n",
    "\n",
    "  You must follow this YAML format:\n",
    "\n",
    "  ```yaml\n",
    "  counteragument_to: (what would be the argument, to which this argument is a counterargument? use your own knowledge. use bullet points)\n",
    "\n",
    "  strongest_objection: (what is the strongest, good-faith, honest objection that a thoughful person might have? use bullet points)\n",
    "  consequences_if_true: (if true, what would be the consequences? write in causal language,  use bullet points, max 3)\n",
    "\n",
    "  link_to_ai_safety: (how is this linked to AI safety? 1 sentence.)\n",
    "\n",
    "  simple_explanation: (explain this clearly to a college student in max. 4 sentences, speak persuasively as the author of this argument. don't use bullet points)\n",
    "\n",
    "  examples: (max 3 examples, use bullet points)\n",
    "\n",
    "  ```\n",
    "\n",
    "  # Here is the transcript:\n",
    "\n",
    "  {transcript}\n",
    "  \"\"\")\n",
    "])"
   ]
  },
  {
   "cell_type": "code",
   "execution_count": 38,
   "id": "a5644532-e9db-4888-bbef-a3d437d3f562",
   "metadata": {},
   "outputs": [],
   "source": [
    "third_cycle_chain = third_cycle_prompt | llm"
   ]
  },
  {
   "cell_type": "code",
   "execution_count": 75,
   "id": "1b22beee-8821-4027-9922-6c2dc8b9f9be",
   "metadata": {},
   "outputs": [],
   "source": [
    "def produce_final_args(args, explanations):\n",
    "    final_args = []\n",
    "    for i, explanation in enumerate(explanations):\n",
    "        final_args.append(args[i] + \"\\n\" + explanation.split(\"```yaml\\n\")[1])\n",
    "    return final_args"
   ]
  },
  {
   "cell_type": "code",
   "execution_count": 76,
   "id": "7c9c8239-983e-4e08-a1a6-ba3ea494c38c",
   "metadata": {},
   "outputs": [],
   "source": [
    "def produce_explained_arguments(isolated_arguments):\n",
    "    explained_args = []\n",
    "    for argument in isolated_arguments:\n",
    "        res = third_cycle_chain.invoke({\"argument\": argument, \"transcript\": raw_text[0].page_content})\n",
    "        explained_args.append(res.content)\n",
    "    return produce_final_args(isolated_arguments, explained_args)"
   ]
  },
  {
   "cell_type": "code",
   "execution_count": 77,
   "id": "3f190954-de38-4e51-8ecb-f95a2d3357a6",
   "metadata": {},
   "outputs": [],
   "source": [
    "final_arguments = produce_explained_arguments(isolated_arguments)"
   ]
  },
  {
   "cell_type": "code",
   "execution_count": 74,
   "id": "49dca982-0bce-4d14-822d-c0da8468cc37",
   "metadata": {},
   "outputs": [
    {
     "data": {
      "text/plain": [
       "['claim: \"AI has the potential to significantly benefit humanity.\"\\npremises:\\n  - claim: \"AI can make the best and cheapest healthcare in history available for billions on their cell phones.\"\\n  - claim: \"AI\\'s integration with biology could lead to unprecedented advances in understanding and treating human conditions.\"\\ncounterargument_to:\\n  - \"AI poses too great a risk to humanity to pursue its development.\"\\n  - \"The negative consequences of AI outweigh its potential benefits.\"\\n\\nstrongest_objjection:\\n  - \"AI could be misused in ways that exacerbate inequality, violate privacy, or empower authoritarian regimes.\"\\n\\nconsequences_if_true:\\n  - If AI can deliver the best and cheapest healthcare via cell phones, it could drastically reduce global health disparities.\\n  - Integration of AI with biology could revolutionize our understanding and treatment of diseases, leading to longer, healthier lives.\\n  - AI\\'s potential benefits could spur global economic growth by creating new industries and enhancing productivity.\\n\\nlink_to_ai_safety: Properly aligning AI with human values and interests is crucial to ensure that its benefits are realized without unintended harmful consequences.\\n\\nsimple_explanation: Imagine a world where your smartphone can provide you with the best healthcare advice, tailored specifically to you, for free or at a very low cost. This isn\\'t a far-off dream but a near-future reality thanks to artificial intelligence (AI). Beyond healthcare, AI\\'s fusion with biology promises to unlock new understandings of human conditions, potentially curing diseases that are today incurable. The key to achieving these incredible benefits lies in guiding AI development in a way that prioritizes human well-being and safety.\\n\\nexamples:\\n  - AI-powered apps that provide personalized health recommendations or early warnings about potential health issues.\\n  - Research projects using machine learning to analyze vast datasets of genetic information, leading to breakthroughs in understanding diseases like cancer and Alzheimer\\'s.\\n  - AI systems integrated into healthcare providing real-time monitoring and analysis, improving diagnostics and treatment plans.\\n```',\n",
       " 'claim: \"AI technology could lead to dystopian outcomes.\"\\npremises:\\n  - claim: \"Liberal democracies could be undermined by machines that exert subtle and pernicious control over human lives.\"\\n  - claim: \"Totalitarian regimes could use AI to create a police state able to monitor and control all aspects of citizens\\' lives, 24 hours a day.\"\\ncounterargument_to:\\n  - \"AI technology is primarily a force for good, with its potential dangers being manageable or unlikely.\"\\n  - \"The benefits of AI, such as improved healthcare and efficiency across sectors, outweigh any potential risks of misuse.\"\\n\\nstrongest_objection:\\n  - \"The argument might underestimate the ability of societies to adapt and regulate AI technologies to prevent dystopian outcomes.\"\\n  - \"It assumes a static view of political and social systems, not accounting for their potential evolution in response to AI challenges.\"\\n\\nconsequences_if_true:\\n  - \"Liberal democracies could transition into technocracies, where decisions are made by algorithms rather than elected representatives, eroding the foundation of democratic choice and freedom.\"\\n  - \"Totalitarian states could achieve unprecedented levels of surveillance and control, leading to the complete erosion of privacy and individual autonomy.\"\\n  - \"A global divide could emerge between nations that control AI technologies and those that are subjected to them, exacerbating existing inequalities.\"\\n\\nlink_to_ai_safety: This argument directly touches on the ethical dimension of AI safety, emphasizing the importance of considering how AI technologies can be designed and governed to avoid harmful societal impacts.\\n\\nsimple_explanation: Imagine a world where your every decision, from who you date to what you buy, is influenced by algorithms that know you better than you know yourself. Now, imagine a government that can watch your every move, controlling your life 24/7 through AI surveillance. These scenarios aren\\'t science fiction; they\\'re real possibilities if we don\\'t carefully manage AI\\'s development. The concern isn\\'t just about technology going wrong; it\\'s about who controls it and how it\\'s used to shape our societies.\\n\\nexamples:\\n  - \"China\\'s Social Credit System, which uses AI and surveillance to monitor citizens\\' behavior, can be seen as a step towards the dystopian future described.\"\\n  - \"The Cambridge Analytica scandal demonstrated how personal data can be used to manipulate political outcomes, hinting at the subtle control AI could exert over democratic processes.\"\\n  - \"The use of predictive policing algorithms in law enforcement has raised concerns about bias and surveillance, showing how AI can impact freedom and privacy.\"\\n```',\n",
       " 'claim: \"Human emotions, such as love, may be resistant to AI manipulation.\"\\npremises:\\n  - claim: \"AI is still very far from achieving true consciousness or experiencing feelings.\"\\n  - claim: \"The complexity and depth of human emotions like love present a significant challenge to AI\\'s ability to fully understand and replicate them.\"\\ncounterargument_to:\\n  - \"AI can eventually replicate or even surpass human emotions, including love.\"\\n  - \"Advanced AI will fully understand human feelings and be able to manipulate them at will.\"\\n\\nstrongest_objection:\\n  - \"AI\\'s rapid advancement in understanding and processing human language and emotions could lead to a future where it can indeed simulate or understand love to a convincing degree.\"\\n\\nconsequences_if_true:\\n  - \"If AI cannot manipulate deep human emotions like love, it may limit the extent to which AI can influence human decision-making on a personal level.\"\\n  - \"This limitation could preserve a core aspect of human uniqueness and autonomy, preventing a dystopia where AI controls all aspects of human life.\"\\n  - \"It might necessitate a focus on developing AI that enhances human capabilities without attempting to replicate or replace the depth of human emotional experience.\"\\n\\nlink_to_ai_safety: Understanding the limitations of AI in replicating human emotions like love is crucial for developing AI that respects and preserves human dignity and autonomy.\\n\\nsimple_explanation: Despite rapid advancements in technology, AI is still a long way from achieving true consciousness or experiencing emotions like humans do. The complexity and depth of human emotions, such as love, pose a significant challenge to AI\\'s ability to fully understand or replicate them. While AI can mimic certain emotional responses, the authentic experience of feelings, particularly love, remains uniquely human. This distinction is important for ensuring that AI enhances rather than undermines the human experience.\\n\\nexamples:\\n  - \"AI-generated art or music can evoke emotional responses but lacks the genuine intention or feeling behind human-created art.\"\\n  - \"Chatbots can simulate empathy or concern but do not actually feel these emotions.\"\\n  - \"AI can analyze patterns in romantic relationships but cannot experience the depth of love that binds people together.\"\\n```',\n",
       " 'claim: \"The hype surrounding today\\'s AI capabilities is excessive.\"\\npremises:\\n  - claim: \"Today\\'s AI technology is still nascent and far from achieving the level of advancement often claimed.\"\\n  - claim: \"Humanity has successfully navigated the introduction of transformative technologies in the past, indicating concerns about AI may be balanced.\"\\ncounterargument_to:\\n  - \"AI technology is already advanced enough to warrant the current level of excitement and anticipation.\"\\n  - \"The potential risks associated with AI are overblown and can be easily managed.\"\\n\\nstrongest_objection:\\n  - \"AI has demonstrated remarkable achievements in various domains, such as natural language processing, image recognition, and autonomous vehicles, suggesting that the excitement is grounded in real progress.\"\\n\\nconsequences_if_true:\\n  - \"If the hype is indeed excessive, resources might be misallocated towards speculative or unrealistic AI projects.\"\\n  - \"Public and investor expectations might be set unrealistically high, leading to disappointment and potential loss of trust in AI advancements.\"\\n  - \"Critical discussions about AI\\'s ethical implications and societal impacts might be overshadowed by sensationalism, hindering responsible development.\"\\n\\nlink_to_ai_safety: Excessive hype can obscure the real risks and ethical considerations associated with AI, complicating efforts to ensure AI\\'s safe and beneficial integration into society.\\n\\nsimple_explanation: While AI technology has made significant strides, the surrounding hype often exaggerates its current capabilities and overlooks the challenges that lie ahead. History shows us that humanity has navigated the introduction of transformative technologies before, suggesting we can find a balanced approach to AI\\'s development and integration. However, it\\'s crucial to temper our expectations and focus on the tangible and ethical development of AI technologies to avoid potential pitfalls and misdirection of resources.\\n\\nexamples:\\n  - The Dotcom Bubble of the late 1990s and early 2000s serves as a cautionary tale about excessive hype and unrealistic expectations surrounding emerging technologies.\\n  - The ongoing challenges with fully autonomous vehicles highlight the gap between public perception and the current technological realities.\\n  - The development of AI in healthcare, where the potential for transformative change must be balanced with careful consideration of ethical implications and real-world applicability.\\n```',\n",
       " 'claim: \"Diversity and inclusion are crucial in the development of AI.\"\\npremises:\\n  - claim: \"Machine learning system bias is a real concern that needs to be addressed.\"\\n  - claim: \"Ensuring diversity and inclusion in AI is essential to serve all of humanity fairly.\"\\ncounterargument_to:\\n  - \"AI development should prioritize efficiency and technological advancement over diversity and inclusion.\"\\n  - \"The focus on diversity and inclusion in AI is unnecessary and diverts valuable resources from more critical research areas.\"\\n\\nstrongest_objjection:\\n  - \"Focusing on diversity and inclusion might slow down the pace of AI advancements by imposing additional constraints and considerations.\"\\n\\nconsequences_if_true:\\n  - \"AI systems would be designed to better understand and serve a broader range of human needs and cultural contexts, reducing systemic bias.\"\\n  - \"The development of AI would be more ethically grounded, leading to technologies that respect and enhance human dignity across diverse populations.\"\\n  - \"A broader range of perspectives in AI development teams could lead to more innovative solutions and a reduction in unintended consequences of AI deployment.\"\\n\\nlink_to_ai_safety: Diversity and inclusion directly contribute to AI safety by ensuring that AI systems do not perpetuate or exacerbate existing biases and inequalities.\\n\\nsimple_explanation: Diversity and inclusion in AI are not just ethical imperatives; they are practical necessities. By integrating a wide range of perspectives in AI development, we can create systems that serve all of humanity fairly and avoid biases that could harm individuals or groups. This approach not only makes moral sense but also enhances the creativity and effectiveness of AI solutions by drawing on the full spectrum of human experience.\\n\\nexamples:\\n  - \"The biased performance of facial recognition technologies that struggle to accurately identify individuals from certain racial or ethnic groups due to lack of diverse data sets.\"\\n  - \"Voice recognition systems that have higher error rates for women\\'s voices compared to men\\'s because of the predominance of male voices in training data.\"\\n  - \"AI-driven hiring tools that inadvertently favor candidates from certain demographic groups over others because of biases present in the training data.\"\\n```',\n",
       " 'claim: \"The development of AI should prioritize human needs and ethics.\"\\npremises:\\n  - claim: \"Privacy concerns and job displacement are pressing issues that need to be addressed in AI development.\"\\n  - claim: \"AI research and dialogue must include ethical and societal considerations beyond just computer code.\"\\ncounterargument_to:\\n  - \"AI development should primarily focus on technological advancement and innovation, without being hindered by ethical concerns or societal needs.\"\\n\\nstrongest_objection:\\n  - \"Prioritizing human needs and ethics in AI development might slow down technological progress and innovation, potentially causing the field to lag behind in global competitiveness.\"\\n\\nconsequences_if_true:\\n  - \"AI technologies will be developed with a holistic understanding of their impact, leading to safer and more ethical applications.\"\\n  - \"Potential negative consequences such as privacy violations and job losses could be mitigated, fostering public trust in AI.\"\\n  - \"The dialogue between technologists and humanists will enhance, leading to AI systems that are more aligned with human values and societal needs.\"\\n\\nlink_to_ai_safety: This argument is inherently linked to AI safety by emphasizing the need to consider ethical, societal, and human-centric aspects in AI development, ensuring technologies are aligned with human values and do not pose unintended harm.\\n\\nsimple_explanation: Imagine a world where AI not only makes our lives easier but also respects our privacy, upholds our values, and works in harmony with our societal norms. To achieve this, the development of AI must prioritize human needs and ethics, ensuring that as we advance technologically, we do not lose sight of what makes us human. It\\'s not just about the code; it\\'s about ensuring that these powerful tools enhance our lives without undermining our rights or displacing our jobs. By integrating ethical considerations from the start, we can create AI that serves humanity, respects our diversity, and fosters a safer, more inclusive future.\\n\\nexamples:\\n  - \"The development of AI healthcare assistants that not only diagnose and recommend treatments but also consider the patient\\'s privacy and consent.\"\\n  - \"AI employment tools designed to match individuals with jobs in a way that reduces bias and promotes diversity and inclusion.\"\\n  - \"AI educational technologies that adapt to different learning styles and needs, without compromising the privacy or autonomy of the learner.\"\\n```',\n",
       " 'claim: \"AI research should be conducted with a focus on benefiting ordinary people.\"\\npremises:\\n  - claim: \"AI assistants should be developed to be loyal to users rather than to for-profit corporations.\"\\n  - claim: \"Keeping much of the AI research in academia can help ensure the technology develops in a way that prioritizes public needs.\"\\ncounterargument_to:\\n  - \"AI research should primarily serve the interests of profit-driven corporations.\"\\n  - \"AI development should be led exclusively by the private sector without significant input from academia.\"\\n\\nstrongest_objection:\\n  - \"Private corporations have the resources, agility, and motivation to drive AI innovation faster than academia can, potentially leading to more rapid technological advancements.\"\\n\\nconsequences_if_true:\\n  - \"AI technology would be more likely to address broad societal needs rather than being narrowly focused on profit-generating applications.\"\\n  - \"The risks of AI being used to manipulate or harm individuals could be reduced through a focus on ethical considerations and public welfare.\"\\n  - \"Greater involvement of academia in AI research could lead to more equitable access to AI benefits across different segments of society.\"\\n\\nlink_to_ai_safety: This argument underscores the importance of directing AI development towards applications that safeguard and enhance human well-being, aligning with the broader goals of AI safety.\\n\\nsimple_explanation: Imagine a world where artificial intelligence acts as a force for good, helping people make better decisions about health, finance, and legal issues. To achieve this, AI research should prioritize the needs of ordinary people over corporate profits, with a significant portion of this research taking place in academic settings. This approach ensures that AI developments are aligned with public interest, potentially leading to technologies that are more loyal, ethical, and beneficial to society as a whole.\\n\\nexamples:\\n  - \"AI-powered healthcare assistants that provide personalized medical advice to users, prioritizing their health over selling pharmaceuticals.\"\\n  - \"Educational AI tools developed in academia that adapt to each student\\'s learning style, making high-quality education accessible to all.\"\\n  - \"Publicly funded AI research projects focused on solving environmental challenges, such as climate change and pollution.\"\\n```',\n",
       " 'claim: \"Interdisciplinary study is essential for preparing for AI\\'s future impact.\"\\npremises:\\n  - claim: \"Understanding AI and its implications requires knowledge from a variety of traditional disciplines.\"\\n  - claim: \"Enhancing the dialogue between humanists and technologists is vital for navigating AI\\'s future responsibly.\"\\ncounterargument_to:\\n  - \"AI development should be solely the domain of technologists and computer scientists.\"\\n  - \"Interdisciplinary study dilutes the focus and slows the progress of AI technology.\"\\n\\nstrongest_objjection:\\n  - \"Specialization in a single discipline allows for deeper, more focused innovations in AI, potentially making interdisciplinary approaches less efficient.\"\\n\\nconsequences_if_true:\\n  - Interdisciplinary approaches to AI would foster a more holistic understanding of its impact across various sectors of society.\\n  - It would encourage the creation of AI technologies that are more ethical, equitable, and aligned with human values.\\n  - Enhancing dialogue between disciplines would lead to more innovative solutions to the challenges AI presents, including those related to privacy, job displacement, and bias.\\n\\nlink_to_ai_safety: Interdisciplinary study is crucial for AI safety because it ensures diverse perspectives are considered in the development and deployment of AI systems.\\n\\nsimple_explanation: To fully grasp the future impact of AI and navigate its challenges responsibly, we can\\'t rely solely on technology and computer science. Understanding AI\\'s implications and ensuring it benefits humanity as a whole requires insights from a variety of fields, including history, philosophy, ethics, and more. By fostering collaboration between humanists and technologists, we can develop AI in a way that respects human values and addresses societal needs. This interdisciplinary approach is not just beneficial but essential for creating AI technologies that are safe, ethical, and truly beneficial for all of humanity.\\n\\nexamples:\\n  - The collaboration between historians and AI researchers can help predict long-term societal impacts of AI, ensuring technologies developed today don\\'t lead to dystopian futures.\\n  - Ethicists working with technologists can create frameworks to prevent AI from being used to manipulate or harm individuals, thus safeguarding personal freedoms.\\n  - Involving psychologists in AI development can help in understanding and mitigating biases in AI systems, leading to fairer outcomes for all users.\\n```']"
      ]
     },
     "execution_count": 74,
     "metadata": {},
     "output_type": "execute_result"
    }
   ],
   "source": [
    "final_arguments"
   ]
  },
  {
   "cell_type": "code",
   "execution_count": null,
   "id": "84e55688-3d24-44a1-a479-dce9a6ecc34f",
   "metadata": {},
   "outputs": [],
   "source": []
  }
 ],
 "metadata": {
  "kernelspec": {
   "display_name": "Python 3 (ipykernel)",
   "language": "python",
   "name": "python3"
  },
  "language_info": {
   "codemirror_mode": {
    "name": "ipython",
    "version": 3
   },
   "file_extension": ".py",
   "mimetype": "text/x-python",
   "name": "python",
   "nbconvert_exporter": "python",
   "pygments_lexer": "ipython3",
   "version": "3.10.11"
  }
 },
 "nbformat": 4,
 "nbformat_minor": 5
}
